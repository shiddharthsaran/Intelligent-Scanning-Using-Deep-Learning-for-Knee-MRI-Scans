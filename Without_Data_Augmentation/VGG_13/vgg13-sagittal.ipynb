{
 "cells": [
  {
   "cell_type": "code",
   "execution_count": 11,
   "metadata": {
    "_cell_guid": "b1076dfc-b9ad-4769-8c92-a6c4dae69d19",
    "_uuid": "8f2839f25d086af736a60e9eeb907d3b93b6e0e5"
   },
   "outputs": [],
   "source": [
    "import torch\n",
    "import torch.nn as nn\n",
    "from torchvision import models\n",
    "from torchvision import transforms\n",
    "import argparse\n",
    "import datetime\n",
    "import os\n",
    "from tensorboardX import SummaryWriter\n",
    "import pandas as pd\n",
    "import numpy as np\n",
    "import matplotlib.pyplot as plt\n",
    "from sklearn import metrics\n",
    "\n",
    "class MRNet(nn.Module):\n",
    "    def __init__(self):\n",
    "        super().__init__()\n",
    "        self.pretrained_model = models.vgg13(pretrained=True)\n",
    "        self.pooling_layer = nn.AdaptiveAvgPool2d(1)\n",
    "        self.classifer = nn.Linear(512, 1)\n",
    "\n",
    "    def forward(self, x):\n",
    "        x = torch.squeeze(x, dim=0) \n",
    "        features = self.pretrained_model.features(x)\n",
    "        pooled_features = self.pooling_layer(features)\n",
    "        pooled_features = pooled_features.view(pooled_features.size(0), -1)\n",
    "        flattened_features = torch.max(pooled_features, 0, keepdim=True)[0]\n",
    "        output = self.classifer(flattened_features)\n",
    "        return output"
   ]
  },
  {
   "cell_type": "code",
   "execution_count": 12,
   "metadata": {
    "_cell_guid": "79c7e3d0-c299-4dcb-8224-4455121ee9b0",
    "_uuid": "d629ff2d2480ee46fbb7e2d37f6b5fab8052498a"
   },
   "outputs": [],
   "source": [
    "class MRDataset(torch.utils.data.Dataset):\n",
    "    def __init__(self, root_dir, task, plane, train=True, transform=None, weights=None):\n",
    "        super().__init__()\n",
    "        self.task = task\n",
    "        self.plane = plane\n",
    "        self.root_dir = root_dir\n",
    "        self.train = train\n",
    "        if self.train:\n",
    "            self.folder_path = self.root_dir + 'train/{0}/'.format(plane)\n",
    "            self.records = pd.read_csv(\n",
    "                self.root_dir + 'train-{0}.csv'.format(task), header=None, names=['id', 'label'])\n",
    "        else:\n",
    "            transform = None\n",
    "            self.folder_path = self.root_dir + 'valid/{0}/'.format(plane)\n",
    "            self.records = pd.read_csv(\n",
    "                self.root_dir + 'valid-{0}.csv'.format(task), header=None, names=['id', 'label'])\n",
    "\n",
    "        self.records['id'] = self.records['id'].map(\n",
    "            lambda i: '0' * (4 - len(str(i))) + str(i))\n",
    "        self.paths = [self.folder_path + filename +\n",
    "                      '.npy' for filename in self.records['id'].tolist()]\n",
    "        self.labels = self.records['label'].tolist()\n",
    "\n",
    "        self.transform = transform\n",
    "        if weights is None:\n",
    "            pos = np.sum(self.labels)\n",
    "            neg = len(self.labels) - pos\n",
    "            self.weights = [1, neg / pos]\n",
    "        else:\n",
    "            self.weights = weights\n",
    "\n",
    "    def __len__(self):\n",
    "        return len(self.paths)\n",
    "\n",
    "    def __getitem__(self, index):\n",
    "        array = np.load(self.paths[index])\n",
    "        label = self.labels[index]\n",
    "        label = torch.FloatTensor([label])\n",
    "        \n",
    "        if self.transform:\n",
    "            array = self.transform(array)\n",
    "        else:\n",
    "            array = np.stack((array,)*3, axis=1)\n",
    "            array = torch.FloatTensor(array)\n",
    "\n",
    "        if label.item() == 1:\n",
    "            weight = np.array([self.weights[1]])\n",
    "            weight = torch.FloatTensor(weight)\n",
    "        else:\n",
    "            weight = np.array([self.weights[0]])\n",
    "            weight = torch.FloatTensor(weight)\n",
    "        return array, label, weight"
   ]
  },
  {
   "cell_type": "code",
   "execution_count": 13,
   "metadata": {},
   "outputs": [],
   "source": [
    "from torchvision import transforms\n",
    "\n",
    "augmentor=transforms.Compose([\n",
    "        transforms.ToPILImage(),\n",
    "        transforms.RandomHorizontalFlip(),\n",
    "        transforms.RandomRotation(25),\n",
    "        transforms.ToTensor()\n",
    "    ])\n",
    "\n",
    "\n",
    "\n",
    "train_dataset = MRDataset('../input/kneescans/MRNet-v1.0/', \"acl\", \"sagittal\",  train=True)\n",
    "validation_dataset = MRDataset('../input/kneescans/MRNet-v1.0/', \"acl\", \"sagittal\", train=False)\n"
   ]
  },
  {
   "cell_type": "code",
   "execution_count": 14,
   "metadata": {},
   "outputs": [],
   "source": [
    "train_loader = torch.utils.data.DataLoader(\n",
    "    train_dataset, batch_size=1, shuffle=True, num_workers=0, drop_last=False)\n",
    "\n",
    "validation_loader = torch.utils.data.DataLoader(\n",
    "    validation_dataset, batch_size=1, shuffle=True, num_workers=0, drop_last=False)"
   ]
  },
  {
   "cell_type": "code",
   "execution_count": 15,
   "metadata": {},
   "outputs": [
    {
     "name": "stdout",
     "output_type": "stream",
     "text": [
      "running on GPU\n"
     ]
    }
   ],
   "source": [
    "if torch.cuda.is_available():\n",
    "    device=torch.device(\"cuda:0\")\n",
    "    print(\"running on GPU\")\n",
    "else:\n",
    "    device=torch.device(\"cpu\")\n",
    "    print(\"running on cpu\")\n",
    "\n",
    "\n",
    "mrnet = MRNet().to(device)\n",
    "\n",
    "optimizer = torch.optim.Adam(mrnet.parameters(), lr=1e-5, weight_decay=0.1)\n",
    "scheduler = torch.optim.lr_scheduler.ReduceLROnPlateau(optimizer, patience=3, factor=.3, threshold=1e-4, verbose=True)\n",
    "best_val_loss = float('inf')\n",
    "best_val_auc = float(0)\n",
    "num_epochs = 10"
   ]
  },
  {
   "cell_type": "code",
   "execution_count": 16,
   "metadata": {},
   "outputs": [],
   "source": [
    "\n",
    "def train_model(model, train_loader, epoch, num_epochs, optimizer):\n",
    "    print(\"train_model\")\n",
    "    print(\"Epoch:\",epoch+1)\n",
    "    _ = model.train()\n",
    "    if torch.cuda.is_available():\n",
    "        device=torch.device(\"cuda:0\")\n",
    "        print(\"running on GPU\")\n",
    "    else:\n",
    "        device=torch.device(\"cpu\")\n",
    "        print(\"running on cpu\")\n",
    "        \n",
    "    model.to(device)\n",
    "    y_preds = []\n",
    "    y_trues = []\n",
    "    losses = []\n",
    "\n",
    "    for i, (image, label, weight) in enumerate(train_loader):\n",
    "        optimizer.zero_grad()\n",
    "\n",
    "        if torch.cuda.is_available():\n",
    "            image = image.to(device)\n",
    "            label = label.to(device)\n",
    "            weight = weight.to(device)\n",
    "\n",
    "        prediction = model.forward(image.float())\n",
    "\n",
    "        loss = torch.binary_cross_entropy_with_logits(\n",
    "            prediction[0], label[0], weight=weight[0])\n",
    "        loss.backward()\n",
    "        optimizer.step()\n",
    "        \n",
    "        y_pred = torch.sigmoid(prediction).item()\n",
    "        y_true = int(label.item())\n",
    "\n",
    "        y_preds.append(y_pred)\n",
    "        y_trues.append(y_true)\n",
    "\n",
    "        try:\n",
    "            auc = metrics.roc_auc_score(y_trues, y_preds)\n",
    "        except:\n",
    "            auc = 0.5\n",
    "        loss_value = loss.item()\n",
    "        losses.append(loss_value)\n",
    "        \n",
    "       \n",
    "    \n",
    "    train_loss_epoch = np.round(np.mean(losses), 4)\n",
    "    train_auc_epoch = np.round(auc, 4)\n",
    "    return train_loss_epoch, train_auc_epoch"
   ]
  },
  {
   "cell_type": "code",
   "execution_count": 17,
   "metadata": {},
   "outputs": [],
   "source": [
    "def evaluate_model(model, val_loader, epoch, num_epochs):\n",
    "    print(\"Eval_model\")\n",
    "    _ = model.eval()\n",
    "\n",
    "    if torch.cuda.is_available():\n",
    "        device=torch.device(\"cuda:0\")\n",
    "        print(\"running on GPU\")\n",
    "    else:\n",
    "        device=torch.device(\"cpu\")\n",
    "        print(\"running on cpu\")\n",
    "    model.to(device)\n",
    "    y_trues = []\n",
    "    y_preds = []\n",
    "    losses = []\n",
    "\n",
    "    for i, (image, label, weight) in enumerate(val_loader):\n",
    "\n",
    "        if torch.cuda.is_available():\n",
    "            image = image.to(device)\n",
    "            label = label.to(device)\n",
    "            weight = weight.to(device)\n",
    "\n",
    "        label = label[0]\n",
    "        weight = weight[0]\n",
    "\n",
    "        prediction = model.forward(image.float())\n",
    "        prediction=torch.reshape(prediction,(1,))\n",
    "\n",
    "        loss = torch.nn.BCEWithLogitsLoss(weight=weight)(prediction, label)\n",
    "\n",
    "        loss_value = loss.item()\n",
    "        losses.append(loss_value)\n",
    "\n",
    "        probas = torch.sigmoid(prediction)\n",
    "\n",
    "        y_trues.append(int(label[0]))\n",
    "        y_preds.append(probas[0].item())\n",
    "\n",
    "        try:\n",
    "            auc = metrics.roc_auc_score(y_trues, y_preds)\n",
    "        except:\n",
    "            auc = 0.5\n",
    "        \n",
    "    val_loss_epoch = np.round(np.mean(losses), 4)\n",
    "    val_auc_epoch = np.round(auc, 4)\n",
    "    return val_loss_epoch, val_auc_epoch\n"
   ]
  },
  {
   "cell_type": "code",
   "execution_count": 18,
   "metadata": {},
   "outputs": [],
   "source": [
    "train_loss_dict={}\n",
    "train_auc_dict={}\n",
    "val_loss_dict={}\n",
    "val_auc_dict={}"
   ]
  },
  {
   "cell_type": "code",
   "execution_count": 19,
   "metadata": {},
   "outputs": [
    {
     "name": "stdout",
     "output_type": "stream",
     "text": [
      "train_model\n",
      "Epoch: 1\n",
      "running on GPU\n",
      "Eval_model\n",
      "running on GPU\n",
      "train loss : 1.4204 | train auc 0.633 | val loss 1.0142 | val auc 0.8412\n",
      "------------------------------\n",
      "train_model\n",
      "Epoch: 2\n",
      "running on GPU\n",
      "Eval_model\n",
      "running on GPU\n",
      "train loss : 0.8536 | train auc 0.8279 | val loss 0.6694 | val auc 0.851\n",
      "------------------------------\n",
      "train_model\n",
      "Epoch: 3\n",
      "running on GPU\n",
      "Eval_model\n",
      "running on GPU\n",
      "train loss : 0.6425 | train auc 0.903 | val loss 0.5606 | val auc 0.885\n",
      "------------------------------\n",
      "train_model\n",
      "Epoch: 4\n",
      "running on GPU\n",
      "Eval_model\n",
      "running on GPU\n",
      "train loss : 0.4448 | train auc 0.9589 | val loss 0.5714 | val auc 0.8953\n",
      "------------------------------\n",
      "train_model\n",
      "Epoch: 5\n",
      "running on GPU\n",
      "Eval_model\n",
      "running on GPU\n",
      "train loss : 0.3366 | train auc 0.9779 | val loss 0.4956 | val auc 0.9004\n",
      "------------------------------\n",
      "train_model\n",
      "Epoch: 6\n",
      "running on GPU\n",
      "Eval_model\n",
      "running on GPU\n",
      "train loss : 0.2847 | train auc 0.9843 | val loss 0.5407 | val auc 0.9049\n",
      "------------------------------\n",
      "train_model\n",
      "Epoch: 7\n",
      "running on GPU\n",
      "Eval_model\n",
      "running on GPU\n",
      "train loss : 0.2053 | train auc 0.9929 | val loss 0.3774 | val auc 0.9299\n",
      "------------------------------\n",
      "train_model\n",
      "Epoch: 8\n",
      "running on GPU\n",
      "Eval_model\n",
      "running on GPU\n",
      "train loss : 0.2175 | train auc 0.991 | val loss 0.435 | val auc 0.9268\n",
      "------------------------------\n",
      "train_model\n",
      "Epoch: 9\n",
      "running on GPU\n",
      "Eval_model\n",
      "running on GPU\n",
      "train loss : 0.1713 | train auc 0.995 | val loss 0.5307 | val auc 0.9341\n",
      "------------------------------\n",
      "train_model\n",
      "Epoch: 10\n",
      "running on GPU\n",
      "Eval_model\n",
      "running on GPU\n",
      "train loss : 0.2221 | train auc 0.9891 | val loss 0.8957 | val auc 0.9447\n",
      "------------------------------\n"
     ]
    }
   ],
   "source": [
    "for epoch in range(num_epochs):\n",
    "    train_loss, train_auc = train_model(\n",
    "        mrnet, train_loader, epoch, num_epochs, optimizer)\n",
    "    val_loss, val_auc = evaluate_model(\n",
    "        mrnet, validation_loader, epoch, num_epochs)\n",
    "    \n",
    "    train_auc_dict[epoch+1]=train_auc\n",
    "    train_loss_dict[epoch+1]=train_loss\n",
    "    val_loss_dict[epoch+1]=val_loss\n",
    "    val_auc_dict[epoch+1]=val_auc\n",
    "    \n",
    "    print(\"train loss : {0} | train auc {1} | val loss {2} | val auc {3}\".format(\n",
    "        train_loss, train_auc, val_loss, val_auc))\n",
    "\n",
    "\n",
    "    if (1) == 1:\n",
    "        scheduler.step(val_loss)\n",
    "\n",
    "    print('-' * 30)\n"
   ]
  },
  {
   "cell_type": "code",
   "execution_count": 20,
   "metadata": {},
   "outputs": [
    {
     "data": {
      "image/png": "[encoded data removed]",
      "text/plain": [
       "<Figure size 432x288 with 1 Axes>"
      ]
     },
     "metadata": {
      "needs_background": "light"
     },
     "output_type": "display_data"
    }
   ],
   "source": [
    "import matplotlib.pylab as plt\n",
    "\n",
    "train_auc_lists = sorted(train_auc_dict.items()) # sorted by key, return a list of tuples\n",
    "\n",
    "x, y = zip(*train_auc_lists) # unpack a list of pairs into two tuples\n",
    "plt.xlabel(\"Number_of_Epochs\")\n",
    "plt.ylabel(\"Training_Accuracy\")\n",
    "plt.title(\"VGG13 - Train/Accuracy (ACL_Tear/Sagittal_View)\")\n",
    "plt.plot(x, y)\n",
    "# plt.savefig(\"D:/Untitled Folder 1/Training_Accuracy.png\")\n",
    "\n",
    "plt.show()\n"
   ]
  },
  {
   "cell_type": "code",
   "execution_count": 21,
   "metadata": {},
   "outputs": [
    {
     "data": {
      "image/png": "[encoded data removed]",
      "text/plain": [
       "<Figure size 432x288 with 1 Axes>"
      ]
     },
     "metadata": {
      "needs_background": "light"
     },
     "output_type": "display_data"
    }
   ],
   "source": [
    "import matplotlib.pylab as plt\n",
    "\n",
    "train_loss_lists = sorted(train_loss_dict.items()) # sorted by key, return a list of tuples\n",
    "\n",
    "x, y = zip(*train_loss_lists) # unpack a list of pairs into two tuples\n",
    "plt.xlabel(\"Number_of_Epochs\")\n",
    "plt.ylabel(\"Training_Loss\")\n",
    "plt.title(\"VGG13 - Train/Loss (ACL_Tear/Sagittal_View)\")\n",
    "plt.plot(x, y)\n",
    "# plt.savefig(\"D:/Untitled Folder 1/Training_Loss.png\")\n",
    "\n",
    "plt.show()\n"
   ]
  },
  {
   "cell_type": "code",
   "execution_count": 22,
   "metadata": {},
   "outputs": [
    {
     "data": {
      "image/png": "[encoded data removed]",
      "text/plain": [
       "<Figure size 432x288 with 1 Axes>"
      ]
     },
     "metadata": {
      "needs_background": "light"
     },
     "output_type": "display_data"
    }
   ],
   "source": [
    "import matplotlib.pylab as plt\n",
    "\n",
    "val_auc_lists = sorted(val_auc_dict.items()) # sorted by key, return a list of tuples\n",
    "\n",
    "x, y = zip(*val_auc_lists) # unpack a list of pairs into two tuples\n",
    "plt.xlabel(\"Number_of_Epochs\")\n",
    "plt.ylabel(\"Validation_Accuracy\")\n",
    "plt.title(\"VGG13 - Validation/Accuracy (ACL_Tear/Sagittal_View)\")\n",
    "\n",
    "plt.plot(x, y)\n",
    "# plt.savefig(\"D:/Untitled Folder 1/Validation_Accuracy.png\")\n",
    "plt.show()\n"
   ]
  },
  {
   "cell_type": "code",
   "execution_count": 23,
   "metadata": {},
   "outputs": [
    {
     "data": {
      "image/png": "[encoded data removed]",
      "text/plain": [
       "<Figure size 432x288 with 1 Axes>"
      ]
     },
     "metadata": {
      "needs_background": "light"
     },
     "output_type": "display_data"
    }
   ],
   "source": [
    "import matplotlib.pylab as plt\n",
    "\n",
    "val_loss_lists = sorted(val_loss_dict.items()) # sorted by key, return a list of tuples\n",
    "\n",
    "x, y = zip(*val_loss_lists) # unpack a list of pairs into two tuples\n",
    "plt.xlabel(\"Number_of_Epochs\")\n",
    "plt.ylabel(\"Validation_Loss\")\n",
    "plt.title(\"VGG13 - Validation/Loss (ACL_Tear/Sagittal_View)\")\n",
    "plt.plot(x, y)\n",
    "# plt.savefig(\"D:/Untitled Folder 1/Validation_Loss.png\")\n",
    "plt.show()\n"
   ]
  },
  {
   "cell_type": "code",
   "execution_count": null,
   "metadata": {},
   "outputs": [],
   "source": []
  }
 ],
 "metadata": {
  "kernelspec": {
   "display_name": "Python 3",
   "language": "python",
   "name": "python3"
  },
  "language_info": {
   "codemirror_mode": {
    "name": "ipython",
    "version": 3
   },
   "file_extension": ".py",
   "mimetype": "text/x-python",
   "name": "python",
   "nbconvert_exporter": "python",
   "pygments_lexer": "ipython3",
   "version": "3.7.6"
  }
 },
 "nbformat": 4,
 "nbformat_minor": 4
}
